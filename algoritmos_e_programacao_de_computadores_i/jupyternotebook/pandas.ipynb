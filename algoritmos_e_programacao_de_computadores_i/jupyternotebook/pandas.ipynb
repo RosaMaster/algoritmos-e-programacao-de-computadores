{
 "cells": [
  {
   "cell_type": "code",
   "execution_count": 2,
   "id": "9364dc61-3669-4b89-b0c2-efd415359a29",
   "metadata": {},
   "outputs": [],
   "source": [
    "from faker import Faker\n",
    "import pandas as pd\n",
    "import pyarrow"
   ]
  },
  {
   "cell_type": "code",
   "execution_count": 13,
   "id": "13d9f639-6344-49e0-ae3e-b40c0702fe16",
   "metadata": {},
   "outputs": [
    {
     "name": "stdout",
     "output_type": "stream",
     "text": [
      "              nome                                           endereco  \\\n",
      "0  Kevin Fernandes  Recanto Novaes, 89\\nVila Nova Paraíso\\n3446712...   \n",
      "\n",
      "     password  idade  saldo             cpf         rg  \\\n",
      "0  $5Jp&W1a!9     59  30505  748.906.321-31  025347688   \n",
      "\n",
      "                      profissao                  email  \n",
      "0  Especialista em agronegócios  marcelo57@example.net  \n"
     ]
    }
   ],
   "source": [
    "fake = Faker('pt_BR')\n",
    "\n",
    "def gerar_pessoa():\n",
    "    nome = fake.name()\n",
    "    endereco = fake.address()\n",
    "    password = fake.password()\n",
    "    idade = fake.random_int(min=0, max=100)\n",
    "    saldo = fake.random_int(min=0, max=100000)\n",
    "    cpf = fake.cpf()\n",
    "    rg = fake.rg()\n",
    "    profissao = fake.job()\n",
    "    email = fake.email()\n",
    "\n",
    "    pessoa = {\n",
    "        'nome': nome,\n",
    "        'endereco': endereco,\n",
    "        'password': password,\n",
    "        'idade': idade,\n",
    "        'saldo': saldo,\n",
    "        'cpf': cpf,\n",
    "        'rg': rg,\n",
    "        'profissao': profissao,\n",
    "        'email': email\n",
    "    }\n",
    "\n",
    "    return pessoa\n",
    "\n",
    "pessoa = gerar_pessoa()\n",
    "\n",
    "# Transformar o dicionário em um DataFrame\n",
    "df = pd.DataFrame(pessoa, index=[0])\n",
    "\n",
    "print(df)\n",
    "\n",
    "df.to_parquet('meu_dataframe.parquet')"
   ]
  },
  {
   "cell_type": "code",
   "execution_count": 4,
   "id": "89548b41-481b-4b79-949d-95dd1c6301a9",
   "metadata": {},
   "outputs": [
    {
     "name": "stdout",
     "output_type": "stream",
     "text": [
      "<class 'dict'>\n",
      "<class 'pandas.core.frame.DataFrame'>\n"
     ]
    }
   ],
   "source": [
    "print(type(pessoa))\n",
    "print(type(df))"
   ]
  },
  {
   "cell_type": "code",
   "execution_count": 5,
   "id": "e71c2258-0392-46f7-aa45-107ab71c212a",
   "metadata": {},
   "outputs": [
    {
     "data": {
      "text/html": [
       "<div>\n",
       "<style scoped>\n",
       "    .dataframe tbody tr th:only-of-type {\n",
       "        vertical-align: middle;\n",
       "    }\n",
       "\n",
       "    .dataframe tbody tr th {\n",
       "        vertical-align: top;\n",
       "    }\n",
       "\n",
       "    .dataframe thead th {\n",
       "        text-align: right;\n",
       "    }\n",
       "</style>\n",
       "<table border=\"1\" class=\"dataframe\">\n",
       "  <thead>\n",
       "    <tr style=\"text-align: right;\">\n",
       "      <th></th>\n",
       "      <th>nome</th>\n",
       "      <th>endereco</th>\n",
       "      <th>password</th>\n",
       "      <th>idade</th>\n",
       "      <th>saldo</th>\n",
       "      <th>cpf</th>\n",
       "      <th>rg</th>\n",
       "      <th>profissao</th>\n",
       "      <th>email</th>\n",
       "    </tr>\n",
       "  </thead>\n",
       "  <tbody>\n",
       "    <tr>\n",
       "      <th>0</th>\n",
       "      <td>Julia Fogaça</td>\n",
       "      <td>Vale de Fernandes, 8\\nMinas Caixa\\n21209-404 S...</td>\n",
       "      <td>)Um9XgaNno</td>\n",
       "      <td>32</td>\n",
       "      <td>71387</td>\n",
       "      <td>247.906.358-56</td>\n",
       "      <td>051473689</td>\n",
       "      <td>Operador de telemarketing</td>\n",
       "      <td>levida-conceicao@example.net</td>\n",
       "    </tr>\n",
       "  </tbody>\n",
       "</table>\n",
       "</div>"
      ],
      "text/plain": [
       "           nome                                           endereco  \\\n",
       "0  Julia Fogaça  Vale de Fernandes, 8\\nMinas Caixa\\n21209-404 S...   \n",
       "\n",
       "     password  idade  saldo             cpf         rg  \\\n",
       "0  )Um9XgaNno     32  71387  247.906.358-56  051473689   \n",
       "\n",
       "                   profissao                         email  \n",
       "0  Operador de telemarketing  levida-conceicao@example.net  "
      ]
     },
     "metadata": {},
     "output_type": "display_data"
    }
   ],
   "source": [
    "display(df)"
   ]
  },
  {
   "cell_type": "code",
   "execution_count": null,
   "id": "989633e6-3870-4497-b859-2aadd6838af0",
   "metadata": {},
   "outputs": [],
   "source": [
    "display(meu_dict)"
   ]
  },
  {
   "cell_type": "code",
   "execution_count": 14,
   "id": "da2a2b16-2f8a-415d-92b5-e90adb3582d6",
   "metadata": {},
   "outputs": [],
   "source": [
    "df.to_json('dynamodb.json')"
   ]
  },
  {
   "cell_type": "code",
   "execution_count": null,
   "id": "bb868bdb-5b54-4f35-ae55-a0216258815f",
   "metadata": {},
   "outputs": [],
   "source": []
  }
 ],
 "metadata": {
  "kernelspec": {
   "display_name": "Python 3 (ipykernel)",
   "language": "python",
   "name": "python3"
  },
  "language_info": {
   "codemirror_mode": {
    "name": "ipython",
    "version": 3
   },
   "file_extension": ".py",
   "mimetype": "text/x-python",
   "name": "python",
   "nbconvert_exporter": "python",
   "pygments_lexer": "ipython3",
   "version": "3.12.1"
  }
 },
 "nbformat": 4,
 "nbformat_minor": 5
}
