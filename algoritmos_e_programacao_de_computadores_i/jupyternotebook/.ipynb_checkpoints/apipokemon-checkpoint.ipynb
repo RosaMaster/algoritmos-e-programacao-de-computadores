{
 "cells": [
  {
   "cell_type": "markdown",
   "id": "c16c77c8-eade-4277-9989-d48d55b1056e",
   "metadata": {},
   "source": [
    "#### API POKEMON\n",
    "DOC: https://pokeapi.co/docs/v2\n",
    "\n",
    "GraphQL\n",
    "https://beta.pokeapi.co/graphql/console/"
   ]
  },
  {
   "cell_type": "code",
   "execution_count": 1,
   "id": "12b68269-8477-483f-b60d-7fdbfe3cd0e9",
   "metadata": {},
   "outputs": [],
   "source": [
    "import requests, json"
   ]
  },
  {
   "cell_type": "code",
   "execution_count": 2,
   "id": "a011e566-1e63-4bcb-837a-ac39244f4328",
   "metadata": {},
   "outputs": [
    {
     "name": "stdin",
     "output_type": "stream",
     "text": [
      "Informe o nome do pokemon:  pikachu\n"
     ]
    }
   ],
   "source": [
    "nome_pokemon = input(f\"Informe o nome do pokemon: \")"
   ]
  },
  {
   "cell_type": "code",
   "execution_count": null,
   "id": "92520192-b29c-4398-9102-2de920a057a7",
   "metadata": {},
   "outputs": [],
   "source": [
    "#nome_pokemon = \"pikachu\"\n",
    "\n",
    "url = f\"https://pokeapi.co/api/v2/pokemon/{nome_pokemon}/\"\n",
    "\n",
    "resposta = requests.get(url)\n",
    "\n",
    "print(resposta)"
   ]
  },
  {
   "cell_type": "code",
   "execution_count": null,
   "id": "56278520-f821-4ec7-8824-a886c317939a",
   "metadata": {},
   "outputs": [],
   "source": []
  },
  {
   "cell_type": "code",
   "execution_count": null,
   "id": "d90e1900-b412-45b4-8ce7-30f4540368f8",
   "metadata": {},
   "outputs": [],
   "source": [
    "if resposta.status_code == 200:\n",
    "    \n",
    "    pokemon = resposta.json()\n",
    "    \n",
    "    print(f\"Name: {pokemon['name']}\")\n",
    "    print(f\"Altura: {pokemon['height']}\")\n",
    "    print(f\"HP: {pokemon['stats'][0]['base_stat']}\")\n",
    "    print(f\"Ataque: {pokemon['stats'][1]['base_stat']}\")\n",
    "    print(f\"Ataque: {pokemon['moves'][0]['move']['name']}\")\n",
    "    print(f\"Ataque: {pokemon['moves'][0]['move']}\")\n",
    "    \n",
    "else:\n",
    "    print(f\"Não conseguimos obter informações do pokemon!!!\")"
   ]
  },
  {
   "cell_type": "code",
   "execution_count": 8,
   "id": "6305a425-5b4b-45ea-a528-84f2dc8e69a7",
   "metadata": {},
   "outputs": [
    {
     "name": "stdin",
     "output_type": "stream",
     "text": [
      "Informe o nome do pokemon:  onix\n"
     ]
    },
    {
     "name": "stdout",
     "output_type": "stream",
     "text": [
      "Name: onix\n",
      "Altura: 88 metros\n",
      "HP: 35\n",
      "Ataque: 45\n",
      "Ataque: bind\n",
      "Ataque: {'name': 'bind', 'url': 'https://pokeapi.co/api/v2/move/20/'}\n",
      "Habilidade {'ability': {'name': 'rock-head', 'url': 'https://pokeapi.co/api/v2/ability/69/'}, 'is_hidden': False, 'slot': 1}: rock-head\n",
      "Habilidade {'ability': {'name': 'sturdy', 'url': 'https://pokeapi.co/api/v2/ability/5/'}, 'is_hidden': False, 'slot': 2}: sturdy\n",
      "Habilidade {'ability': {'name': 'weak-armor', 'url': 'https://pokeapi.co/api/v2/ability/133/'}, 'is_hidden': True, 'slot': 3}: weak-armor\n"
     ]
    }
   ],
   "source": [
    "def get_pokemon():\n",
    "    nome_pokemon = input(f\"Informe o nome do pokemon: \")\n",
    "    url = f\"https://pokeapi.co/api/v2/pokemon/{nome_pokemon}/\"\n",
    "    resposta = requests.get(url)\n",
    "\n",
    "    return resposta\n",
    "\n",
    "resposta = get_pokemon()\n",
    "\n",
    "if resposta.status_code == 200:\n",
    "    \n",
    "    pokemon = resposta.json()\n",
    "    \n",
    "    print(f\"Name: {pokemon['name']}\")\n",
    "    print(f\"Altura: {pokemon['height']} metros\")\n",
    "    print(f\"HP: {pokemon['stats'][0]['base_stat']}\")\n",
    "    print(f\"Ataque: {pokemon['stats'][1]['base_stat']}\")\n",
    "    print(f\"Ataque: {pokemon['moves'][0]['move']['name']}\")\n",
    "    print(f\"Ataque: {pokemon['moves'][0]['move']}\")\n",
    "\n",
    "    for i in pokemon['abilities']:\n",
    "        print(f\"Habilidade {i}: {i['ability']['name']}\")\n",
    "else:\n",
    "    print(f\"Não conseguimos obter informações do pokemon!!!\")"
   ]
  },
  {
   "cell_type": "code",
   "execution_count": null,
   "id": "014a5bd5-b380-4e1e-b9b5-1b75b05d99ff",
   "metadata": {},
   "outputs": [],
   "source": []
  }
 ],
 "metadata": {
  "kernelspec": {
   "display_name": "Python 3 (ipykernel)",
   "language": "python",
   "name": "python3"
  },
  "language_info": {
   "codemirror_mode": {
    "name": "ipython",
    "version": 3
   },
   "file_extension": ".py",
   "mimetype": "text/x-python",
   "name": "python",
   "nbconvert_exporter": "python",
   "pygments_lexer": "ipython3",
   "version": "3.12.1"
  }
 },
 "nbformat": 4,
 "nbformat_minor": 5
}
