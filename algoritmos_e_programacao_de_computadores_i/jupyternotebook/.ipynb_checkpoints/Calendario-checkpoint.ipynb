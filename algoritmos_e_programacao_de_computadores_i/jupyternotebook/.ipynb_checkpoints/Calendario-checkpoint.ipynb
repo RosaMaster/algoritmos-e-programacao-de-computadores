{
 "cells": [
  {
   "cell_type": "code",
   "execution_count": 1,
   "id": "c61b2474-dc7f-4edc-87a8-d4d7c588f5be",
   "metadata": {},
   "outputs": [],
   "source": [
    "import calendar\n",
    "from datetime import date, datetime"
   ]
  },
  {
   "cell_type": "code",
   "execution_count": 2,
   "id": "30869588-751f-4318-8316-8bc59de3a5cb",
   "metadata": {},
   "outputs": [
    {
     "name": "stdout",
     "output_type": "stream",
     "text": [
      "     March 2012\n",
      "Mo Tu We Th Fr Sa Su\n",
      "          1  2  3  4\n",
      " 5  6  7  8  9 10 11\n",
      "12 13 14 15 16 17 18\n",
      "19 20 21 22 23 24 25\n",
      "26 27 28 29 30 31\n",
      "\n"
     ]
    }
   ],
   "source": [
    "yy = 2012  # Year\n",
    "mm = 3    # Month\n",
    "\n",
    "# Display The Calendar\n",
    "def Calendar(year, month):\n",
    "    print(calendar.month(year, month))\n",
    "\n",
    "Calendar(yy, mm)"
   ]
  },
  {
   "cell_type": "code",
   "execution_count": 3,
   "id": "42582a35-a5bf-446d-b3e5-611274fb07e2",
   "metadata": {},
   "outputs": [
    {
     "name": "stdout",
     "output_type": "stream",
     "text": [
      "2024-02-21\n"
     ]
    }
   ],
   "source": [
    "data_atual = date.today()\n",
    "print(data_atual)"
   ]
  },
  {
   "cell_type": "code",
   "execution_count": 4,
   "id": "dc288045-dc66-4c99-ae75-88866819868b",
   "metadata": {},
   "outputs": [
    {
     "name": "stdout",
     "output_type": "stream",
     "text": [
      "2024-02-21 22:19:49.685197\n",
      "2024\n",
      "2\n"
     ]
    }
   ],
   "source": [
    "now = datetime.now()\n",
    "print(now)\n",
    "\n",
    "# Obter o ano\n",
    "year = now.year\n",
    "print(year)\n",
    "\n",
    "# Obter o mês\n",
    "month = now.month\n",
    "print(month)"
   ]
  },
  {
   "cell_type": "code",
   "execution_count": 5,
   "id": "d1460480-8b20-4dd0-a1a7-f847ea583b3d",
   "metadata": {},
   "outputs": [
    {
     "name": "stdout",
     "output_type": "stream",
     "text": [
      "   February 2024\n",
      "Mo Tu We Th Fr Sa Su\n",
      "          1  2  3  4\n",
      " 5  6  7  8  9 10 11\n",
      "12 13 14 15 16 17 18\n",
      "19 20 21 22 23 24 25\n",
      "26 27 28 29\n",
      "\n"
     ]
    }
   ],
   "source": [
    "Calendar(year, month)"
   ]
  }
 ],
 "metadata": {
  "kernelspec": {
   "display_name": "Python 3 (ipykernel)",
   "language": "python",
   "name": "python3"
  },
  "language_info": {
   "codemirror_mode": {
    "name": "ipython",
    "version": 3
   },
   "file_extension": ".py",
   "mimetype": "text/x-python",
   "name": "python",
   "nbconvert_exporter": "python",
   "pygments_lexer": "ipython3",
   "version": "3.12.1"
  }
 },
 "nbformat": 4,
 "nbformat_minor": 5
}
